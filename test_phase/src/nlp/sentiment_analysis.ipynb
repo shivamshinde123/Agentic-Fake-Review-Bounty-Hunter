{
 "cells": [
  {
   "cell_type": "code",
   "execution_count": 1,
   "metadata": {},
   "outputs": [],
   "source": [
    "from dotenv import load_dotenv\n",
    "import pandas as pd\n",
    "import numpy as np\n",
    "from sqlalchemy import create_engine\n",
    "import os\n",
    "from sklearn.feature_extraction.text import TfidfVectorizer\n",
    "from sentence_transformers import SentenceTransformer\n",
    "import string\n",
    "\n",
    "dr_path = \"D:/Projects/Agentic Fake Review Bounty Hunter/test_phase\"\n",
    "\n",
    "load_dotenv()\n",
    "\n",
    "engine = create_engine(\n",
    "    os.environ['SQL_ENGINE'] + \"?keepalives=1&connect_timeout=30\",\n",
    "    isolation_level=\"AUTOCOMMIT\",\n",
    "    pool_size=5,\n",
    "    max_overflow=10,\n",
    "    pool_timeout=60,\n",
    "    connect_args={\"application_name\": \"FeatureExtractor\"}\n",
    ")"
   ]
  },
  {
   "cell_type": "code",
   "execution_count": 2,
   "metadata": {},
   "outputs": [],
   "source": [
    "def load_data(source=\"sql\", limit=10000):\n",
    "    if source == \"csv\":\n",
    "        return pd.read_csv(\"test_phase/data/processed/reviews.csv\").head(limit)\n",
    "    elif source == \"sql\":\n",
    "        df = pd.read_sql(f\"SELECT * FROM yelp_data LIMIT {limit}\", engine)"
   ]
  },
  {
   "cell_type": "code",
   "execution_count": 3,
   "metadata": {},
   "outputs": [
    {
     "name": "stderr",
     "output_type": "stream",
     "text": [
      "Device set to use cpu\n"
     ]
    }
   ],
   "source": [
    "from transformers import pipeline\n",
    "sentiment_analyzer = pipeline(\"sentiment-analysis\", model=\"distilbert-base-uncased-finetuned-sst-2-english\")\n",
    "\n",
    "def get_sentiment_label(text):\n",
    "    try:\n",
    "        return sentiment_analyzer(str(text)[:512])[0][\"label\"]\n",
    "    except:\n",
    "        return \"NEUTRAL\"\n",
    "    \n",
    "def get_sentiment_score(text):\n",
    "    try:\n",
    "        res = sentiment_analyzer(str(text)[:512])[0]\n",
    "        return res[\"score\"] if res[\"label\"] == \"POSITIVE\" else -res[\"score\"]\n",
    "    except:\n",
    "        return 0.0"
   ]
  },
  {
   "cell_type": "code",
   "execution_count": 4,
   "metadata": {},
   "outputs": [
    {
     "name": "stdout",
     "output_type": "stream",
     "text": [
      "✅ Feature extraction completed and saved.\n"
     ]
    }
   ],
   "source": [
    "df = pd.read_sql(\"SELECT * FROM yelp_data\", engine)\n",
    "\n",
    "df[\"sentiment\"] = df[\"text\"].apply(get_sentiment_label)\n",
    "df[\"sentiment_score\"] = df[\"text\"].apply(get_sentiment_score)\n",
    "\n",
    "df.to_sql(\"yelp_data\", engine, if_exists=\"replace\", index=False)\n",
    "df.to_csv(f\"{dr_path}/data/processed/sentiment-analysis.csv\", index=False, encoding=\"utf-8\")\n",
    "print(\"✅ Feature extraction completed and saved.\")"
   ]
  },
  {
   "cell_type": "code",
   "execution_count": 5,
   "metadata": {},
   "outputs": [],
   "source": [
    "# from transformers import AutoTokenizer, AutoModelForSeq2SeqLM\n",
    "\n",
    "# model_name = \"google/flan-t5-base\"\n",
    "# tokenizer = AutoTokenizer.from_pretrained(model_name)\n",
    "# model = AutoModelForSeq2SeqLM.from_pretrained(model_name)\n",
    "\n",
    "# df = pd.read_csv(f\"{dr_path}/data/processed/sample_prompts.csv\")\n",
    "\n",
    "# prompts = [\n",
    "#     \"Write a fake positive restaurant review.\",\n",
    "#     \"Write a fake negative restaurant review.\",\n",
    "#     \"Write a fake neutral restaurant review.\"\n",
    "# ]\n",
    "\n",
    "# generated_reviews = []\n",
    "\n",
    "# for prompt in df[\"prompt\"]:\n",
    "#     input_ids = tokenizer(prompt, return_tensors=\"pt\").input_ids\n",
    "#     outputs = model.generate(\n",
    "#         input_ids,\n",
    "#         max_length=100,\n",
    "#         do_sample=True,\n",
    "#         top_k=50,               # Keeping top 50 likely words\n",
    "#         top_p=0.92,             # tokens covering 92% of probability mask\n",
    "#         temperature=0.95,       #more variation\n",
    "#         repetition_penalty=1.2, # reduce using repeated phrases\n",
    "#         num_return_sequences=3, # multiple options at once\n",
    "#     )\n",
    "#     for i, output in enumerate(outputs):\n",
    "#         fake_review = tokenizer.decode(output, skip_special_tokens=True)\n",
    "#         generated_reviews.append({\n",
    "#             \"prompt\": prompt,\n",
    "#             \"variation\": i+1,\n",
    "#             \"fake_review\": fake_review\n",
    "#         })\n",
    "\n",
    "# df = pd.DataFrame(generated_reviews)\n",
    "# df.to_csv(f\"{dr_path}/data/processed/generated_fakes.csv\", index=False)\n",
    "# print(\"✅ Generated reviews saved to generated_fakes.csv\")\n"
   ]
  },
  {
   "cell_type": "code",
   "execution_count": null,
   "metadata": {},
   "outputs": [
    {
     "data": {
      "application/vnd.jupyter.widget-view+json": {
       "model_id": "ff235d55023b4dc18a324ae29f26c5dc",
       "version_major": 2,
       "version_minor": 0
      },
      "text/plain": [
       "tokenizer_config.json:   0%|          | 0.00/26.0 [00:00<?, ?B/s]"
      ]
     },
     "metadata": {},
     "output_type": "display_data"
    },
    {
     "name": "stderr",
     "output_type": "stream",
     "text": [
      "d:\\Anaconda\\envs\\env-bountyhunter\\lib\\site-packages\\huggingface_hub\\file_download.py:142: UserWarning: `huggingface_hub` cache-system uses symlinks by default to efficiently store duplicated files but your machine does not support them in C:\\Users\\Ankit\\.cache\\huggingface\\hub\\models--facebook--bart-large. Caching files will still work but in a degraded version that might require more space on your disk. This warning can be disabled by setting the `HF_HUB_DISABLE_SYMLINKS_WARNING` environment variable. For more details, see https://huggingface.co/docs/huggingface_hub/how-to-cache#limitations.\n",
      "To support symlinks on Windows, you either need to activate Developer Mode or to run Python as an administrator. In order to activate developer mode, see this article: https://docs.microsoft.com/en-us/windows/apps/get-started/enable-your-device-for-development\n",
      "  warnings.warn(message)\n"
     ]
    },
    {
     "data": {
      "application/vnd.jupyter.widget-view+json": {
       "model_id": "40f16e03ff344a14bc2b5d095d856045",
       "version_major": 2,
       "version_minor": 0
      },
      "text/plain": [
       "vocab.json:   0%|          | 0.00/899k [00:00<?, ?B/s]"
      ]
     },
     "metadata": {},
     "output_type": "display_data"
    },
    {
     "data": {
      "application/vnd.jupyter.widget-view+json": {
       "model_id": "6d56afa65f5c43a4abbf5c5090d906fe",
       "version_major": 2,
       "version_minor": 0
      },
      "text/plain": [
       "merges.txt:   0%|          | 0.00/456k [00:00<?, ?B/s]"
      ]
     },
     "metadata": {},
     "output_type": "display_data"
    },
    {
     "data": {
      "application/vnd.jupyter.widget-view+json": {
       "model_id": "bda3ea7f2e9e4d88934654fb5a31d3bd",
       "version_major": 2,
       "version_minor": 0
      },
      "text/plain": [
       "tokenizer.json:   0%|          | 0.00/1.36M [00:00<?, ?B/s]"
      ]
     },
     "metadata": {},
     "output_type": "display_data"
    },
    {
     "data": {
      "application/vnd.jupyter.widget-view+json": {
       "model_id": "05d4d14c747442cb86e5edbd8dbe7f4a",
       "version_major": 2,
       "version_minor": 0
      },
      "text/plain": [
       "config.json:   0%|          | 0.00/1.63k [00:00<?, ?B/s]"
      ]
     },
     "metadata": {},
     "output_type": "display_data"
    },
    {
     "data": {
      "application/vnd.jupyter.widget-view+json": {
       "model_id": "4af7454fec9347e496e94d9a735d3520",
       "version_major": 2,
       "version_minor": 0
      },
      "text/plain": [
       "pytorch_model.bin:   0%|          | 0.00/1.02G [00:00<?, ?B/s]"
      ]
     },
     "metadata": {},
     "output_type": "display_data"
    },
    {
     "data": {
      "application/vnd.jupyter.widget-view+json": {
       "model_id": "841d23fddd3f4f2f87369ced41697a28",
       "version_major": 2,
       "version_minor": 0
      },
      "text/plain": [
       "model.safetensors:   0%|          | 0.00/1.02G [00:00<?, ?B/s]"
      ]
     },
     "metadata": {},
     "output_type": "display_data"
    }
   ],
   "source": [
    "from transformers import BartTokenizer, BartForConditionalGeneration\n",
    "\n",
    "def generate_fake_review(review, target_sentiment):\n",
    "    prompt = f\"Rewrite the following review with a {target_sentiment} tone: {review}\"\n",
    "    input_ids = tokenizer(prompt, return_tensors=\"pt\", truncation=True, max_length=256).input_ids\n",
    "    output = model.generate(\n",
    "        input_ids,\n",
    "        max_length=100,\n",
    "        do_sample=True,\n",
    "        top_k=50,\n",
    "        top_p=0.92,\n",
    "        temperature=0.95,\n",
    "        repetition_penalty=1.2\n",
    "    )\n",
    "    return tokenizer.decode(output[0], skip_special_tokens=True), prompt\n",
    "\n",
    "# Swap model to BART\n",
    "model_name = \"facebook/bart-large\"\n",
    "tokenizer = BartTokenizer.from_pretrained(model_name)\n",
    "model = BartForConditionalGeneration.from_pretrained(model_name)\n",
    "\n",
    "df = pd.read_csv(f\"{dr_path}/data/processed/sentiment-analysis.csv\")\n",
    "\n",
    "results = []\n",
    "for _, row in df.iterrows():\n",
    "    review = row[\"text\"]\n",
    "    sentiment = row[\"sentiment\"]\n",
    "\n",
    "    if sentiment == \"positive\":\n",
    "        target_sentiment = \"negative\"\n",
    "    elif sentiment == \"negative\":\n",
    "        target_sentiment = \"positive\"\n",
    "    else:\n",
    "        target_sentiment = \"positive\"\n",
    "\n",
    "    s_score = row[\"sentiment_score\"]\n",
    "    fake_review, prompt = generate_fake_review(review, target_sentiment)\n",
    "\n",
    "    results.append({\n",
    "        \"original_review\": review,\n",
    "        \"original_sentiment\": sentiment,\n",
    "        \"sentiment_score\": s_score,\n",
    "        \"target_sentiment\": target_sentiment,\n",
    "        \"prompt\": prompt,\n",
    "        \"generated_fake_review\": fake_review\n",
    "    })\n",
    "\n",
    "# Save results\n",
    "df = pd.DataFrame(results)\n",
    "df.to_csv(f\"{dr_path}/data/processed/generated_fakes_bart.csv\", index=False)\n",
    "print(\"✅ Generated BART fake reviews saved to generated_fakes_bart.csv\")\n"
   ]
  },
  {
   "cell_type": "code",
   "execution_count": null,
   "metadata": {},
   "outputs": [],
   "source": []
  }
 ],
 "metadata": {
  "kernelspec": {
   "display_name": "env-bountyhunter",
   "language": "python",
   "name": "python3"
  },
  "language_info": {
   "codemirror_mode": {
    "name": "ipython",
    "version": 3
   },
   "file_extension": ".py",
   "mimetype": "text/x-python",
   "name": "python",
   "nbconvert_exporter": "python",
   "pygments_lexer": "ipython3",
   "version": "3.10.0"
  }
 },
 "nbformat": 4,
 "nbformat_minor": 2
}
