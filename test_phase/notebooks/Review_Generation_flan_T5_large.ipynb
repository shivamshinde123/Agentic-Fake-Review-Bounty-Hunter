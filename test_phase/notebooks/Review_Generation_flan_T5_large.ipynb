{
 "cells": [
  {
   "cell_type": "code",
   "execution_count": 1,
   "metadata": {},
   "outputs": [],
   "source": [
    "import warnings\n",
    "warnings.filterwarnings('ignore')"
   ]
  },
  {
   "cell_type": "code",
   "execution_count": 2,
   "metadata": {},
   "outputs": [],
   "source": [
    "import numpy as np\n",
    "import pandas as pd\n",
    "import torch\n",
    "from transformers import AutoTokenizer, AutoModelForSeq2SeqLM"
   ]
  },
  {
   "cell_type": "code",
   "execution_count": 3,
   "metadata": {},
   "outputs": [],
   "source": [
    "yelp_business_types = [\n",
    "    # Restaurants & Food\n",
    "    \"Restaurants\", \"Fast Food\", \"Cafes\", \"Coffee & Tea\", \"Bakeries\",\n",
    "    \"Desserts\", \"Ice Cream & Frozen Yogurt\", \"Pizza\", \"Sushi Bars\",\n",
    "    \"Chinese\", \"Mexican\", \"Indian\", \"Thai\", \"Italian\", \"Korean\",\n",
    "    \"American (Traditional)\", \"American (New)\", \"Seafood\", \"BBQ\", \"Vegan\",\n",
    "\n",
    "    # Beauty & Spas\n",
    "    \"Hair Salons\", \"Nail Salons\", \"Skin Care\", \"Massage\", \"Waxing\",\n",
    "    \"Spas\", \"Barbers\", \"Eyelash Services\", \"Makeup Artists\",\n",
    "\n",
    "    # Health & Medical\n",
    "    \"Dentists\", \"Chiropractors\", \"Family Practice\", \"Physical Therapy\",\n",
    "    \"Optometrists\", \"Urgent Care\", \"Psychologists\", \"Acupuncture\",\n",
    "\n",
    "    # Automotive\n",
    "    \"Auto Repair\", \"Oil Change Stations\", \"Car Dealers\", \"Auto Detailing\",\n",
    "    \"Car Wash\", \"Towing\", \"Body Shops\", \"Tires\",\n",
    "\n",
    "    # Shopping\n",
    "    \"Fashion\", \"Shoe Stores\", \"Department Stores\", \"Electronics\",\n",
    "    \"Thrift Stores\", \"Bookstores\", \"Gift Shops\", \"Grocery\",\n",
    "    \"Organic Stores\", \"Convenience Stores\",\n",
    "\n",
    "    # Home Services\n",
    "    \"Plumbers\", \"Electricians\", \"Contractors\", \"Cleaning Services\",\n",
    "    \"Movers\", \"Painters\", \"Home Inspectors\", \"Handyman\", \"Landscaping\",\n",
    "\n",
    "    # Pets\n",
    "    \"Pet Groomers\", \"Veterinarians\", \"Pet Stores\", \"Dog Walkers\", \"Pet Sitting\",\n",
    "\n",
    "    # Nightlife\n",
    "    \"Bars\", \"Pubs\", \"Lounges\", \"Nightclubs\", \"Karaoke\",\n",
    "\n",
    "    # Fitness & Instruction\n",
    "    \"Gyms\", \"Personal Trainers\", \"Yoga\", \"Martial Arts\", \n",
    "    \"Dance Studios\", \"Cycling Classes\", \"Swimming Lessons\",\n",
    "\n",
    "    # Arts, Entertainment & Events\n",
    "    \"Movie Theaters\", \"Museums\", \"Performing Arts\", \"Event Planning\",\n",
    "    \"Party Supplies\", \"DJs\", \"Photo Booth Rentals\", \"Escape Games\",\n",
    "\n",
    "    # Hotels & Travel\n",
    "    \"Hotels\", \"Resorts\", \"Bed & Breakfast\", \"Hostels\",\n",
    "    \"Car Rental\", \"Airport Shuttles\", \"Travel Agents\"\n",
    "]\n",
    "\n",
    "prompt = \"\"\"\n",
    "You are a helpful assistant trained to generate realistic Yelp-style reviews in **English only**. The reviews should closely match the tone, vocabulary, and structure used in real Yelp reviews.\n",
    "\n",
    "Please generate a {type_of_review} review for a {business_type} such as those found in the Yelp dataset. The review should be 2-3 sentences long, rich in specific details, and written from the perspective of a real customer.\n",
    "\n",
    "Include relevant elements such as:\n",
    "- Service quality\n",
    "- Cleanliness\n",
    "- Atmosphere/ambiance\n",
    "- Staff behavior\n",
    "- Product/food quality\n",
    "- Prices or value\n",
    "- Wait times\n",
    "\n",
    "Make sure the review sounds natural and human-written. Do NOT mention that it’s AI-generated. Write only the review content.\n",
    "\n",
    "**Only write the review in English. Do not use or switch to any other language.**\n",
    "\n",
    "Now, generate a {type_of_review} review for a {business_type}####\\n.\n",
    "\"\"\""
   ]
  },
  {
   "cell_type": "markdown",
   "metadata": {},
   "source": [
    "### google/flan-t5-large"
   ]
  },
  {
   "cell_type": "code",
   "execution_count": 4,
   "metadata": {},
   "outputs": [],
   "source": [
    "tokenizer = AutoTokenizer.from_pretrained(\"google/flan-t5-large\")\n",
    "model = AutoModelForSeq2SeqLM.from_pretrained(\"google/flan-t5-large\")"
   ]
  },
  {
   "cell_type": "code",
   "execution_count": 5,
   "metadata": {},
   "outputs": [],
   "source": [
    "# type_of_review = \"Positive\"\n",
    "# business_type = np.random.choice(yelp_business_types)"
   ]
  },
  {
   "cell_type": "code",
   "execution_count": 6,
   "metadata": {},
   "outputs": [],
   "source": [
    "# # Generate text\n",
    "# review_df_positive = pd.DataFrame(columns=['Reviews'])\n",
    "\n",
    "# with torch.no_grad():\n",
    "#     for i in range(25):\n",
    "#         reviews = list()\n",
    "#         for index in range(20):\n",
    "#             inputs = tokenizer(prompt, return_tensors=\"pt\")\n",
    "#             generated_ids = model.generate(**inputs, max_new_tokens=60, do_sample=True, temperature=0.7,  repetition_penalty=1.4, top_k=200)\n",
    "#             output = tokenizer.decode(generated_ids[0], skip_special_tokens=True)\n",
    "#             reviews.append(output.split(\"####\\n\")[-1].strip())\n",
    "#         review_df_positive = pd.concat([review_df_positive, pd.DataFrame({'Reviews': reviews})], ignore_index=True)\n",
    "        \n",
    "#         # Save to CSV\n",
    "#         review_df_positive.to_csv(\"generated_reviews_positive.csv\", index=False)"
   ]
  },
  {
   "cell_type": "code",
   "execution_count": 7,
   "metadata": {},
   "outputs": [],
   "source": [
    "type_of_review = \"Negative\"\n",
    "business_type = np.random.choice(yelp_business_types)"
   ]
  },
  {
   "cell_type": "code",
   "execution_count": 8,
   "metadata": {},
   "outputs": [],
   "source": [
    "# Generate text\n",
    "review_df_negative = pd.DataFrame(columns=['Reviews'])\n",
    "\n",
    "with torch.no_grad():\n",
    "    for i in range(25):\n",
    "        reviews = list()\n",
    "        for index in range(20):\n",
    "            inputs = tokenizer(prompt, return_tensors=\"pt\")\n",
    "            generated_ids = model.generate(**inputs, max_new_tokens=60, do_sample=True, temperature=0.7,  repetition_penalty=1.4, top_k=200)\n",
    "            output = tokenizer.decode(generated_ids[0], skip_special_tokens=True)\n",
    "            reviews.append(output.split(\"####\\n\")[-1].strip())\n",
    "        review_df_negative = pd.concat([review_df_negative, pd.DataFrame({'Reviews': reviews})], ignore_index=True)\n",
    "        \n",
    "        # Save to CSV\n",
    "        review_df_negative.to_csv(\"generated_reviews_negative.csv\", index=False)"
   ]
  }
 ],
 "metadata": {
  "kernelspec": {
   "display_name": "NLP Project Env Python3.10",
   "language": "python",
   "name": "nlp_project"
  },
  "language_info": {
   "codemirror_mode": {
    "name": "ipython",
    "version": 3
   },
   "file_extension": ".py",
   "mimetype": "text/x-python",
   "name": "python",
   "nbconvert_exporter": "python",
   "pygments_lexer": "ipython3",
   "version": "3.10.4"
  }
 },
 "nbformat": 4,
 "nbformat_minor": 5
}
