{
 "cells": [
  {
   "cell_type": "code",
   "execution_count": 1,
   "id": "c4430679-13d0-4cdd-b2ef-7493a5393dcf",
   "metadata": {},
   "outputs": [
    {
     "name": "stdout",
     "output_type": "stream",
     "text": [
      "Requirement already satisfied: transformers in d:\\wpi things\\spring-2025\\nlp_project\\env-bountyhunter\\lib\\site-packages (4.51.3)\n",
      "Requirement already satisfied: torch in d:\\wpi things\\spring-2025\\nlp_project\\env-bountyhunter\\lib\\site-packages (2.6.0)\n",
      "Requirement already satisfied: filelock in d:\\wpi things\\spring-2025\\nlp_project\\env-bountyhunter\\lib\\site-packages (from transformers) (3.18.0)\n",
      "Requirement already satisfied: huggingface-hub<1.0,>=0.30.0 in d:\\wpi things\\spring-2025\\nlp_project\\env-bountyhunter\\lib\\site-packages (from transformers) (0.30.2)\n",
      "Requirement already satisfied: numpy>=1.17 in d:\\wpi things\\spring-2025\\nlp_project\\env-bountyhunter\\lib\\site-packages (from transformers) (2.2.4)\n",
      "Requirement already satisfied: packaging>=20.0 in d:\\wpi things\\spring-2025\\nlp_project\\env-bountyhunter\\lib\\site-packages (from transformers) (24.2)\n",
      "Requirement already satisfied: pyyaml>=5.1 in d:\\wpi things\\spring-2025\\nlp_project\\env-bountyhunter\\lib\\site-packages (from transformers) (6.0.2)\n",
      "Requirement already satisfied: regex!=2019.12.17 in d:\\wpi things\\spring-2025\\nlp_project\\env-bountyhunter\\lib\\site-packages (from transformers) (2024.11.6)\n",
      "Requirement already satisfied: requests in d:\\wpi things\\spring-2025\\nlp_project\\env-bountyhunter\\lib\\site-packages (from transformers) (2.32.3)\n",
      "Requirement already satisfied: tokenizers<0.22,>=0.21 in d:\\wpi things\\spring-2025\\nlp_project\\env-bountyhunter\\lib\\site-packages (from transformers) (0.21.1)\n",
      "Requirement already satisfied: safetensors>=0.4.3 in d:\\wpi things\\spring-2025\\nlp_project\\env-bountyhunter\\lib\\site-packages (from transformers) (0.5.3)\n",
      "Requirement already satisfied: tqdm>=4.27 in d:\\wpi things\\spring-2025\\nlp_project\\env-bountyhunter\\lib\\site-packages (from transformers) (4.67.1)\n",
      "Requirement already satisfied: typing-extensions>=4.10.0 in d:\\wpi things\\spring-2025\\nlp_project\\env-bountyhunter\\lib\\site-packages (from torch) (4.13.2)\n",
      "Requirement already satisfied: networkx in d:\\wpi things\\spring-2025\\nlp_project\\env-bountyhunter\\lib\\site-packages (from torch) (3.4.2)\n",
      "Requirement already satisfied: jinja2 in d:\\wpi things\\spring-2025\\nlp_project\\env-bountyhunter\\lib\\site-packages (from torch) (3.1.6)\n",
      "Requirement already satisfied: fsspec in d:\\wpi things\\spring-2025\\nlp_project\\env-bountyhunter\\lib\\site-packages (from torch) (2025.3.2)\n",
      "Requirement already satisfied: setuptools in d:\\wpi things\\spring-2025\\nlp_project\\env-bountyhunter\\lib\\site-packages (from torch) (78.1.0)\n",
      "Requirement already satisfied: sympy==1.13.1 in d:\\wpi things\\spring-2025\\nlp_project\\env-bountyhunter\\lib\\site-packages (from torch) (1.13.1)\n",
      "Requirement already satisfied: mpmath<1.4,>=1.1.0 in d:\\wpi things\\spring-2025\\nlp_project\\env-bountyhunter\\lib\\site-packages (from sympy==1.13.1->torch) (1.3.0)\n",
      "Requirement already satisfied: colorama in d:\\wpi things\\spring-2025\\nlp_project\\env-bountyhunter\\lib\\site-packages (from tqdm>=4.27->transformers) (0.4.6)\n",
      "Requirement already satisfied: MarkupSafe>=2.0 in d:\\wpi things\\spring-2025\\nlp_project\\env-bountyhunter\\lib\\site-packages (from jinja2->torch) (3.0.2)\n",
      "Requirement already satisfied: charset-normalizer<4,>=2 in d:\\wpi things\\spring-2025\\nlp_project\\env-bountyhunter\\lib\\site-packages (from requests->transformers) (3.4.1)\n",
      "Requirement already satisfied: idna<4,>=2.5 in d:\\wpi things\\spring-2025\\nlp_project\\env-bountyhunter\\lib\\site-packages (from requests->transformers) (3.10)\n",
      "Requirement already satisfied: urllib3<3,>=1.21.1 in d:\\wpi things\\spring-2025\\nlp_project\\env-bountyhunter\\lib\\site-packages (from requests->transformers) (2.4.0)\n",
      "Requirement already satisfied: certifi>=2017.4.17 in d:\\wpi things\\spring-2025\\nlp_project\\env-bountyhunter\\lib\\site-packages (from requests->transformers) (2025.1.31)\n"
     ]
    },
    {
     "name": "stderr",
     "output_type": "stream",
     "text": [
      "\n",
      "[notice] A new release of pip is available: 24.2 -> 25.0.1\n",
      "[notice] To update, run: python.exe -m pip install --upgrade pip\n"
     ]
    }
   ],
   "source": [
    "!pip install transformers torch"
   ]
  },
  {
   "cell_type": "code",
   "execution_count": 2,
   "id": "cc61bca1-ed3d-40c8-aebd-c674144f13e0",
   "metadata": {},
   "outputs": [
    {
     "name": "stderr",
     "output_type": "stream",
     "text": [
      "d:\\WPI Things\\Spring-2025\\NLP_Project\\env-bountyhunter\\Lib\\site-packages\\tqdm\\auto.py:21: TqdmWarning: IProgress not found. Please update jupyter and ipywidgets. See https://ipywidgets.readthedocs.io/en/stable/user_install.html\n",
      "  from .autonotebook import tqdm as notebook_tqdm\n"
     ]
    }
   ],
   "source": [
    "from transformers import CTRLLMHeadModel, CTRLTokenizer\n",
    "import torch\n",
    "import numpy as np\n",
    "\n",
    "import warnings\n",
    "warnings.filterwarnings('ignore')"
   ]
  },
  {
   "cell_type": "code",
   "execution_count": 3,
   "id": "a8c0ed81",
   "metadata": {},
   "outputs": [],
   "source": [
    "yelp_business_types = [\n",
    "    # Restaurants & Food\n",
    "    \"Restaurants\", \"Fast Food\", \"Cafes\", \"Coffee & Tea\", \"Bakeries\",\n",
    "    \"Desserts\", \"Ice Cream & Frozen Yogurt\", \"Pizza\", \"Sushi Bars\",\n",
    "    \"Chinese\", \"Mexican\", \"Indian\", \"Thai\", \"Italian\", \"Korean\",\n",
    "    \"American (Traditional)\", \"American (New)\", \"Seafood\", \"BBQ\", \"Vegan\",\n",
    "\n",
    "    # Beauty & Spas\n",
    "    \"Hair Salons\", \"Nail Salons\", \"Skin Care\", \"Massage\", \"Waxing\",\n",
    "    \"Spas\", \"Barbers\", \"Eyelash Services\", \"Makeup Artists\",\n",
    "\n",
    "    # Health & Medical\n",
    "    \"Dentists\", \"Chiropractors\", \"Family Practice\", \"Physical Therapy\",\n",
    "    \"Optometrists\", \"Urgent Care\", \"Psychologists\", \"Acupuncture\",\n",
    "\n",
    "    # Automotive\n",
    "    \"Auto Repair\", \"Oil Change Stations\", \"Car Dealers\", \"Auto Detailing\",\n",
    "    \"Car Wash\", \"Towing\", \"Body Shops\", \"Tires\",\n",
    "\n",
    "    # Shopping\n",
    "    \"Fashion\", \"Shoe Stores\", \"Department Stores\", \"Electronics\",\n",
    "    \"Thrift Stores\", \"Bookstores\", \"Gift Shops\", \"Grocery\",\n",
    "    \"Organic Stores\", \"Convenience Stores\",\n",
    "\n",
    "    # Home Services\n",
    "    \"Plumbers\", \"Electricians\", \"Contractors\", \"Cleaning Services\",\n",
    "    \"Movers\", \"Painters\", \"Home Inspectors\", \"Handyman\", \"Landscaping\",\n",
    "\n",
    "    # Pets\n",
    "    \"Pet Groomers\", \"Veterinarians\", \"Pet Stores\", \"Dog Walkers\", \"Pet Sitting\",\n",
    "\n",
    "    # Nightlife\n",
    "    \"Bars\", \"Pubs\", \"Lounges\", \"Nightclubs\", \"Karaoke\",\n",
    "\n",
    "    # Fitness & Instruction\n",
    "    \"Gyms\", \"Personal Trainers\", \"Yoga\", \"Martial Arts\", \n",
    "    \"Dance Studios\", \"Cycling Classes\", \"Swimming Lessons\",\n",
    "\n",
    "    # Arts, Entertainment & Events\n",
    "    \"Movie Theaters\", \"Museums\", \"Performing Arts\", \"Event Planning\",\n",
    "    \"Party Supplies\", \"DJs\", \"Photo Booth Rentals\", \"Escape Games\",\n",
    "\n",
    "    # Hotels & Travel\n",
    "    \"Hotels\", \"Resorts\", \"Bed & Breakfast\", \"Hostels\",\n",
    "    \"Car Rental\", \"Airport Shuttles\", \"Travel Agents\"\n",
    "]\n",
    "\n",
    "prompt = \"\"\"\n",
    "You are a helpful assistant trained to generate realistic Yelp-style reviews in **English only**. The reviews should closely match the tone, vocabulary, and structure used in real Yelp reviews.\n",
    "\n",
    "Please generate a {type_of_review} review for a {business_type} such as those found in the Yelp dataset. The review should be 2-3 sentences long, rich in specific details, and written from the perspective of a real customer.\n",
    "\n",
    "Include relevant elements such as:\n",
    "- Service quality\n",
    "- Cleanliness\n",
    "- Atmosphere/ambiance\n",
    "- Staff behavior\n",
    "- Product/food quality\n",
    "- Prices or value\n",
    "- Wait times\n",
    "\n",
    "Make sure the review sounds natural and human-written. Do NOT mention that it’s AI-generated. Write only the review content.\n",
    "\n",
    "**Only write the review in English. Do not use or switch to any other language.**\n",
    "\n",
    "Now, generate a {type_of_review} review for a {business_type}####\\n.\n",
    "\"\"\""
   ]
  },
  {
   "cell_type": "markdown",
   "id": "62114511-af66-4bf1-9563-4c95ca48ce4a",
   "metadata": {},
   "source": [
    "### Using Salesforce/Ctrl Model for Review Generation"
   ]
  },
  {
   "cell_type": "code",
   "execution_count": 4,
   "id": "e4dff38b-9796-4680-adf9-596ac6c84aaf",
   "metadata": {},
   "outputs": [
    {
     "data": {
      "text/plain": [
       "CTRLLMHeadModel(\n",
       "  (transformer): CTRLModel(\n",
       "    (w): Embedding(246534, 1280)\n",
       "    (dropout): Dropout(p=0.1, inplace=False)\n",
       "    (h): ModuleList(\n",
       "      (0-47): 48 x EncoderLayer(\n",
       "        (multi_head_attention): MultiHeadAttention(\n",
       "          (Wq): Linear(in_features=1280, out_features=1280, bias=True)\n",
       "          (Wk): Linear(in_features=1280, out_features=1280, bias=True)\n",
       "          (Wv): Linear(in_features=1280, out_features=1280, bias=True)\n",
       "          (dense): Linear(in_features=1280, out_features=1280, bias=True)\n",
       "        )\n",
       "        (ffn): Sequential(\n",
       "          (0): Linear(in_features=1280, out_features=8192, bias=True)\n",
       "          (1): ReLU()\n",
       "          (2): Linear(in_features=8192, out_features=1280, bias=True)\n",
       "        )\n",
       "        (layernorm1): LayerNorm((1280,), eps=1e-06, elementwise_affine=True)\n",
       "        (layernorm2): LayerNorm((1280,), eps=1e-06, elementwise_affine=True)\n",
       "        (dropout1): Dropout(p=0.1, inplace=False)\n",
       "        (dropout2): Dropout(p=0.1, inplace=False)\n",
       "      )\n",
       "    )\n",
       "    (layernorm): LayerNorm((1280,), eps=1e-06, elementwise_affine=True)\n",
       "  )\n",
       "  (lm_head): Linear(in_features=1280, out_features=246534, bias=True)\n",
       ")"
      ]
     },
     "execution_count": 4,
     "metadata": {},
     "output_type": "execute_result"
    }
   ],
   "source": [
    "tokenizer = CTRLTokenizer.from_pretrained('ctrl')\n",
    "model = CTRLLMHeadModel.from_pretrained('ctrl')\n",
    "model.eval()"
   ]
  },
  {
   "cell_type": "code",
   "execution_count": 8,
   "id": "cd07fadd-2c1a-43b0-99ec-eaadc5e36ef5",
   "metadata": {},
   "outputs": [
    {
     "name": "stdout",
     "output_type": "stream",
     "text": [
      ".\n",
      " 1. Die meist die Entscheidung des Unternehmers und der beschreien. \n",
      " \n",
      " Das ist eine sehr frühschnellen Aufmerksamkeiten für das Großunternehmen. Der Nutzer: http://www.verdienst-und/ zu den Rechtsverfahren werden. Diese Veröffentstehen wir uns mit dem Urteil: \n",
      " \n",
      " vorleg@@\n",
      ".\n",
      " En Angleterreet anonym : \n",
      " 1. Der Name ist nicht nachgewiegen. Es wird nur eine Listder Autoren des Textes ein anonym. \n",
      " 3. Die Autorennamen sind alle identischen, das kann auch als einsamer (autoreaktion) \n",
      " 4. Die Autoauswaren zu sprechen und die Kommentationsauf. \n",
      " oder vorbewerden\n",
      ".\n",
      " 1. Aufsch** \n",
      " : : \n",
      " * Unterschrift / Veröffentlichung des vorliegen der einzelnen Reihe oder die Anzahl und werden nicht mehr als ein Paar. Vier wird aber mit einer Besonderbetreten von Ihnerseitgekosten: \n",
      " vielen Vorausgleichzwei Anmerksänderbesondere Komment@@\n",
      ".\n",
      " 1. Unterschnitte de la matière et du service public: \n",
      " 1. Die Wirtschaft des Landes Nordrhein-Westfalen wird von der Gesellschaft für wirtschaftlichen Aufsichte veröffentlicht und mit der Stadt Rheinland-Pfalz/ dem Rundwort und das Deutsche zu erhalten haben, die Anfragen. Das ist nicht übertragbar? Der oder nachweisgest@@\n",
      ".\n",
      " http://nrk.de (en ligne pour la société et surtout les entrepris: \n",
      " * Le nombre d'emplois est un critère d'évaluation du travail par une personne/ en France ou sur le site Web de cette école \n",
      " \n",
      " \n",
      " La loi du 7 août derriers ont lieu à l'économiquant des cours de l'Administration centrale dans cer@@\n"
     ]
    }
   ],
   "source": [
    "type_of_review = \"Positive\"\n",
    "business_type = np.random.choice(yelp_business_types)\n",
    "\n",
    "# Generate text\n",
    "with torch.no_grad():\n",
    "    for _ in range(5):\n",
    "        inputs = tokenizer(\"{type_of_review} Review\" + prompt, return_tensors=\"pt\")\n",
    "        generated_ids = model.generate(**inputs,\n",
    "                        max_new_tokens=80,                # Allow for longer review text\n",
    "                        do_sample=True,\n",
    "                        temperature=0.7,                  # Slightly more creative\n",
    "                        top_p=0.9,                        # Switch from top_k to top_p (nucleus sampling)\n",
    "                        repetition_penalty=1.2           # Slightly less aggressive, more natural reuse of words\n",
    "        )\n",
    "        output = tokenizer.decode(generated_ids[0], skip_special_tokens=True)\n",
    "        print(output.split(\"####\\n\")[-1].strip())"
   ]
  },
  {
   "cell_type": "code",
   "execution_count": null,
   "id": "937939e7",
   "metadata": {},
   "outputs": [],
   "source": []
  }
 ],
 "metadata": {
  "kernelspec": {
   "display_name": "env-bountyhunter",
   "language": "python",
   "name": "python3"
  },
  "language_info": {
   "codemirror_mode": {
    "name": "ipython",
    "version": 3
   },
   "file_extension": ".py",
   "mimetype": "text/x-python",
   "name": "python",
   "nbconvert_exporter": "python",
   "pygments_lexer": "ipython3",
   "version": "3.12.5"
  }
 },
 "nbformat": 4,
 "nbformat_minor": 5
}
