{
 "cells": [
  {
   "cell_type": "code",
   "execution_count": 1,
   "id": "c4430679-13d0-4cdd-b2ef-7493a5393dcf",
   "metadata": {},
   "outputs": [
    {
     "name": "stdout",
     "output_type": "stream",
     "text": [
      "Requirement already satisfied: transformers in d:\\wpi things\\spring-2025\\nlp_project\\env-bountyhunter\\lib\\site-packages (4.51.3)\n",
      "Requirement already satisfied: torch in d:\\wpi things\\spring-2025\\nlp_project\\env-bountyhunter\\lib\\site-packages (2.6.0)\n",
      "Requirement already satisfied: numpy in d:\\wpi things\\spring-2025\\nlp_project\\env-bountyhunter\\lib\\site-packages (2.2.4)\n",
      "Requirement already satisfied: filelock in d:\\wpi things\\spring-2025\\nlp_project\\env-bountyhunter\\lib\\site-packages (from transformers) (3.18.0)\n",
      "Requirement already satisfied: huggingface-hub<1.0,>=0.30.0 in d:\\wpi things\\spring-2025\\nlp_project\\env-bountyhunter\\lib\\site-packages (from transformers) (0.30.2)\n",
      "Requirement already satisfied: packaging>=20.0 in d:\\wpi things\\spring-2025\\nlp_project\\env-bountyhunter\\lib\\site-packages (from transformers) (24.2)\n",
      "Requirement already satisfied: pyyaml>=5.1 in d:\\wpi things\\spring-2025\\nlp_project\\env-bountyhunter\\lib\\site-packages (from transformers) (6.0.2)\n",
      "Requirement already satisfied: regex!=2019.12.17 in d:\\wpi things\\spring-2025\\nlp_project\\env-bountyhunter\\lib\\site-packages (from transformers) (2024.11.6)\n",
      "Requirement already satisfied: requests in d:\\wpi things\\spring-2025\\nlp_project\\env-bountyhunter\\lib\\site-packages (from transformers) (2.32.3)\n",
      "Requirement already satisfied: tokenizers<0.22,>=0.21 in d:\\wpi things\\spring-2025\\nlp_project\\env-bountyhunter\\lib\\site-packages (from transformers) (0.21.1)\n",
      "Requirement already satisfied: safetensors>=0.4.3 in d:\\wpi things\\spring-2025\\nlp_project\\env-bountyhunter\\lib\\site-packages (from transformers) (0.5.3)\n",
      "Requirement already satisfied: tqdm>=4.27 in d:\\wpi things\\spring-2025\\nlp_project\\env-bountyhunter\\lib\\site-packages (from transformers) (4.67.1)\n",
      "Requirement already satisfied: typing-extensions>=4.10.0 in d:\\wpi things\\spring-2025\\nlp_project\\env-bountyhunter\\lib\\site-packages (from torch) (4.13.2)\n",
      "Requirement already satisfied: networkx in d:\\wpi things\\spring-2025\\nlp_project\\env-bountyhunter\\lib\\site-packages (from torch) (3.4.2)\n",
      "Requirement already satisfied: jinja2 in d:\\wpi things\\spring-2025\\nlp_project\\env-bountyhunter\\lib\\site-packages (from torch) (3.1.6)\n",
      "Requirement already satisfied: fsspec in d:\\wpi things\\spring-2025\\nlp_project\\env-bountyhunter\\lib\\site-packages (from torch) (2025.3.2)\n",
      "Requirement already satisfied: setuptools in d:\\wpi things\\spring-2025\\nlp_project\\env-bountyhunter\\lib\\site-packages (from torch) (78.1.0)\n",
      "Requirement already satisfied: sympy==1.13.1 in d:\\wpi things\\spring-2025\\nlp_project\\env-bountyhunter\\lib\\site-packages (from torch) (1.13.1)\n",
      "Requirement already satisfied: mpmath<1.4,>=1.1.0 in d:\\wpi things\\spring-2025\\nlp_project\\env-bountyhunter\\lib\\site-packages (from sympy==1.13.1->torch) (1.3.0)\n",
      "Requirement already satisfied: colorama in d:\\wpi things\\spring-2025\\nlp_project\\env-bountyhunter\\lib\\site-packages (from tqdm>=4.27->transformers) (0.4.6)\n",
      "Requirement already satisfied: MarkupSafe>=2.0 in d:\\wpi things\\spring-2025\\nlp_project\\env-bountyhunter\\lib\\site-packages (from jinja2->torch) (3.0.2)\n",
      "Requirement already satisfied: charset-normalizer<4,>=2 in d:\\wpi things\\spring-2025\\nlp_project\\env-bountyhunter\\lib\\site-packages (from requests->transformers) (3.4.1)\n",
      "Requirement already satisfied: idna<4,>=2.5 in d:\\wpi things\\spring-2025\\nlp_project\\env-bountyhunter\\lib\\site-packages (from requests->transformers) (3.10)\n",
      "Requirement already satisfied: urllib3<3,>=1.21.1 in d:\\wpi things\\spring-2025\\nlp_project\\env-bountyhunter\\lib\\site-packages (from requests->transformers) (2.4.0)\n",
      "Requirement already satisfied: certifi>=2017.4.17 in d:\\wpi things\\spring-2025\\nlp_project\\env-bountyhunter\\lib\\site-packages (from requests->transformers) (2025.1.31)\n"
     ]
    },
    {
     "name": "stderr",
     "output_type": "stream",
     "text": [
      "\n",
      "[notice] A new release of pip is available: 24.2 -> 25.0.1\n",
      "[notice] To update, run: python.exe -m pip install --upgrade pip\n"
     ]
    }
   ],
   "source": [
    "!pip install transformers torch numpy"
   ]
  },
  {
   "cell_type": "code",
   "execution_count": 2,
   "id": "e7918626",
   "metadata": {},
   "outputs": [
    {
     "name": "stderr",
     "output_type": "stream",
     "text": [
      "d:\\WPI Things\\Spring-2025\\NLP_Project\\env-bountyhunter\\Lib\\site-packages\\tqdm\\auto.py:21: TqdmWarning: IProgress not found. Please update jupyter and ipywidgets. See https://ipywidgets.readthedocs.io/en/stable/user_install.html\n",
      "  from .autonotebook import tqdm as notebook_tqdm\n"
     ]
    }
   ],
   "source": [
    "import numpy as np\n",
    "from transformers import pipeline\n",
    "\n",
    "import warnings\n",
    "warnings.filterwarnings('ignore')\n",
    "\n",
    "from transformers import AutoModelForCausalLM, AutoTokenizer\n",
    "import torch\n",
    "\n",
    "# Load model directly\n",
    "from transformers import AutoTokenizer, AutoModelForSeq2SeqLM"
   ]
  },
  {
   "cell_type": "code",
   "execution_count": 3,
   "id": "a8c0ed81",
   "metadata": {},
   "outputs": [],
   "source": [
    "yelp_business_types = [\n",
    "    # Restaurants & Food\n",
    "    \"Restaurants\", \"Fast Food\", \"Cafes\", \"Coffee & Tea\", \"Bakeries\",\n",
    "    \"Desserts\", \"Ice Cream & Frozen Yogurt\", \"Pizza\", \"Sushi Bars\",\n",
    "    \"Chinese\", \"Mexican\", \"Indian\", \"Thai\", \"Italian\", \"Korean\",\n",
    "    \"American (Traditional)\", \"American (New)\", \"Seafood\", \"BBQ\", \"Vegan\",\n",
    "\n",
    "    # Beauty & Spas\n",
    "    \"Hair Salons\", \"Nail Salons\", \"Skin Care\", \"Massage\", \"Waxing\",\n",
    "    \"Spas\", \"Barbers\", \"Eyelash Services\", \"Makeup Artists\",\n",
    "\n",
    "    # Health & Medical\n",
    "    \"Dentists\", \"Chiropractors\", \"Family Practice\", \"Physical Therapy\",\n",
    "    \"Optometrists\", \"Urgent Care\", \"Psychologists\", \"Acupuncture\",\n",
    "\n",
    "    # Automotive\n",
    "    \"Auto Repair\", \"Oil Change Stations\", \"Car Dealers\", \"Auto Detailing\",\n",
    "    \"Car Wash\", \"Towing\", \"Body Shops\", \"Tires\",\n",
    "\n",
    "    # Shopping\n",
    "    \"Fashion\", \"Shoe Stores\", \"Department Stores\", \"Electronics\",\n",
    "    \"Thrift Stores\", \"Bookstores\", \"Gift Shops\", \"Grocery\",\n",
    "    \"Organic Stores\", \"Convenience Stores\",\n",
    "\n",
    "    # Home Services\n",
    "    \"Plumbers\", \"Electricians\", \"Contractors\", \"Cleaning Services\",\n",
    "    \"Movers\", \"Painters\", \"Home Inspectors\", \"Handyman\", \"Landscaping\",\n",
    "\n",
    "    # Pets\n",
    "    \"Pet Groomers\", \"Veterinarians\", \"Pet Stores\", \"Dog Walkers\", \"Pet Sitting\",\n",
    "\n",
    "    # Nightlife\n",
    "    \"Bars\", \"Pubs\", \"Lounges\", \"Nightclubs\", \"Karaoke\",\n",
    "\n",
    "    # Fitness & Instruction\n",
    "    \"Gyms\", \"Personal Trainers\", \"Yoga\", \"Martial Arts\", \n",
    "    \"Dance Studios\", \"Cycling Classes\", \"Swimming Lessons\",\n",
    "\n",
    "    # Arts, Entertainment & Events\n",
    "    \"Movie Theaters\", \"Museums\", \"Performing Arts\", \"Event Planning\",\n",
    "    \"Party Supplies\", \"DJs\", \"Photo Booth Rentals\", \"Escape Games\",\n",
    "\n",
    "    # Hotels & Travel\n",
    "    \"Hotels\", \"Resorts\", \"Bed & Breakfast\", \"Hostels\",\n",
    "    \"Car Rental\", \"Airport Shuttles\", \"Travel Agents\"\n",
    "]\n",
    "\n",
    "prompt = \"\"\"\n",
    "You are a helpful assistant trained to generate realistic Yelp-style reviews in **English only**. The reviews should closely match the tone, vocabulary, and structure used in real Yelp reviews.\n",
    "\n",
    "Please generate a {type_of_review} review for a {business_type} such as those found in the Yelp dataset. The review should be 2-3 sentences long, rich in specific details, and written from the perspective of a real customer.\n",
    "\n",
    "Include relevant elements such as:\n",
    "- Service quality\n",
    "- Cleanliness\n",
    "- Atmosphere/ambiance\n",
    "- Staff behavior\n",
    "- Product/food quality\n",
    "- Prices or value\n",
    "- Wait times\n",
    "\n",
    "Make sure the review sounds natural and human-written. Do NOT mention that it’s AI-generated. Write only the review content.\n",
    "\n",
    "**Only write the review in English. Do not use or switch to any other language.**\n",
    "\n",
    "Now, generate a {type_of_review} review for a {business_type}####\\n.\n",
    "\"\"\""
   ]
  },
  {
   "cell_type": "code",
   "execution_count": 4,
   "id": "cd07fadd-2c1a-43b0-99ec-eaadc5e36ef5",
   "metadata": {},
   "outputs": [],
   "source": [
    "type_of_review = \"Positive\"\n",
    "business_type = np.random.choice(yelp_business_types)"
   ]
  },
  {
   "cell_type": "markdown",
   "id": "83025c4d",
   "metadata": {},
   "source": [
    "### google/flan-t5-small"
   ]
  },
  {
   "cell_type": "code",
   "execution_count": 5,
   "id": "a34464bb",
   "metadata": {},
   "outputs": [
    {
     "name": "stderr",
     "output_type": "stream",
     "text": [
      "Xet Storage is enabled for this repo, but the 'hf_xet' package is not installed. Falling back to regular HTTP download. For better performance, install the package with: `pip install huggingface_hub[hf_xet]` or `pip install hf_xet`\n",
      "Xet Storage is enabled for this repo, but the 'hf_xet' package is not installed. Falling back to regular HTTP download. For better performance, install the package with: `pip install huggingface_hub[hf_xet]` or `pip install hf_xet`\n"
     ]
    }
   ],
   "source": [
    "tokenizer = AutoTokenizer.from_pretrained(\"google/flan-t5-large\")\n",
    "model = AutoModelForSeq2SeqLM.from_pretrained(\"google/flan-t5-large\")"
   ]
  },
  {
   "cell_type": "code",
   "execution_count": 6,
   "id": "a837eaa3",
   "metadata": {},
   "outputs": [
    {
     "name": "stdout",
     "output_type": "stream",
     "text": [
      "********************************************\n",
      "I'm a fan of this place and will be back\n",
      "********************************************\n",
      "I liked the food. If you want a good burger, I would recommend this place. Otherwise, its just ok.\n",
      "********************************************\n",
      "I'm a mediocre customer. I'm a repeat customer. I've lived here for a few years and have never had a bad experience. I just recently\n",
      "********************************************\n",
      "I would highly recommend this place\n",
      "********************************************\n",
      "I have been to this restaurant several times and each time I have ordered at least 1 item from the menu. There are about 3 servers and each of them is very rude and mean . I would\n"
     ]
    }
   ],
   "source": [
    "# Generate text\n",
    "with torch.no_grad():\n",
    "    for _ in range(5):\n",
    "        inputs = tokenizer(prompt, return_tensors=\"pt\")\n",
    "        generated_ids = model.generate(**inputs, max_new_tokens=40, do_sample=True, temperature=0.7,  repetition_penalty=1.4, top_k=200)\n",
    "        output = tokenizer.decode(generated_ids[0], skip_special_tokens=True)\n",
    "        print(\"********************************************\")\n",
    "        print(output.split(\"####\\n\")[-1].strip())"
   ]
  },
  {
   "cell_type": "code",
   "execution_count": null,
   "id": "496e09b1",
   "metadata": {},
   "outputs": [],
   "source": []
  }
 ],
 "metadata": {
  "kernelspec": {
   "display_name": "env-bountyhunter",
   "language": "python",
   "name": "python3"
  },
  "language_info": {
   "codemirror_mode": {
    "name": "ipython",
    "version": 3
   },
   "file_extension": ".py",
   "mimetype": "text/x-python",
   "name": "python",
   "nbconvert_exporter": "python",
   "pygments_lexer": "ipython3",
   "version": "3.12.5"
  }
 },
 "nbformat": 4,
 "nbformat_minor": 5
}
